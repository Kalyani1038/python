{
  "nbformat": 4,
  "nbformat_minor": 0,
  "metadata": {
    "colab": {
      "provenance": []
    },
    "kernelspec": {
      "name": "python3",
      "display_name": "Python 3"
    },
    "language_info": {
      "name": "python"
    }
  },
  "cells": [
    {
      "cell_type": "code",
      "execution_count": null,
      "metadata": {
        "colab": {
          "base_uri": "https://localhost:8080/"
        },
        "id": "5rJmESJikppW",
        "outputId": "193c568c-ac0e-44aa-f069-0bfdb4909fc8"
      },
      "outputs": [
        {
          "output_type": "stream",
          "name": "stdout",
          "text": [
            "Current date and time: 2024-09-09 11:41:41.756608\n",
            "enter previous month units7144\n",
            "enter current month units7183\n",
            "enter type of customer 0;res 1;com 2;adv0\n",
            "----------------------------\n",
            "TGNPDCL\n",
            "Formatted date and time: 2024-09-09 11:41:41\n",
            "----------------------------\n",
            "previous units= 7144\n",
            "present units= 7183\n",
            "energy consumu= 39\n",
            "eneryg charges= 76.05\n",
            "fixed charges= 10\n",
            "customer charges= 40\n",
            "electicity duty= 2.34\n",
            "bill_amount= 128.39\n",
            "----------------------------\n"
          ]
        }
      ],
      "source": [
        "import datetime\n",
        "now = datetime.datetime.now()\n",
        "print(\"Current date and time:\", now)\n",
        "formatted_now = now.strftime(\"%Y-%m-%d %H:%M:%S\")\n",
        "\n",
        "count=0\n",
        "pu=int(input(\"enter previous month units\"))\n",
        "cu=int(input(\"enter current month units\"))\n",
        "tc=int(input(\"enter type of customer 0;res 1;com 2;adv\"))\n",
        "u=cu-pu\n",
        "ed=0.06*u\n",
        "if(tc==0):\n",
        "  if(u<=100):\n",
        "    if(u<=50):\n",
        "      ec=1.95*u\n",
        "      fc=10\n",
        "      cc=40\n",
        "    else:\n",
        "      ec=3.10*u\n",
        "      fc=10\n",
        "      cc=70\n",
        "  else:\n",
        "    if(u>100 and u<=200):\n",
        "      ec=100*3.4+(u-100)*4.8\n",
        "      fc=10\n",
        "      cc=90\n",
        "    else:\n",
        "      print(\"this appilaction is not supported\")\n",
        "      count=count+1\n",
        "if(tc==1):\n",
        "  if(u<=50):\n",
        "    ec=7*u\n",
        "    fc=60\n",
        "    cc=50\n",
        "  else:\n",
        "    print(\"this appilaction is not supported\")\n",
        "    count=count+1\n",
        "if(tc==2):\n",
        "  ec=13*u\n",
        "  fc=70\n",
        "  cc=160\n",
        "\n",
        "if(count==0):\n",
        "  bill_amount=ec+fc+cc+ed\n",
        "  print(\"----------------------------\")\n",
        "  print(\"TGNPDCL\")\n",
        "  print(\"Formatted date and time:\",formatted_now)\n",
        "  print(\"----------------------------\")\n",
        "  print(\"previous units=\",pu)\n",
        "  print(\"present units=\",cu)\n",
        "  print(\"energy consumu=\",u)\n",
        "  print(\"eneryg charges=\",ec)\n",
        "  print(\"fixed charges=\",fc)\n",
        "  print(\"customer charges=\",cc)\n",
        "  print(\"electicity duty=\",ed)\n",
        "  print(\"bill_amount=\",bill_amount)\n",
        "  print(\"----------------------------\")"
      ]
    }
  ]
}