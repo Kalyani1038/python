{
  "nbformat": 4,
  "nbformat_minor": 0,
  "metadata": {
    "colab": {
      "provenance": [],
      "authorship_tag": "ABX9TyPb5Hr1M9RVgD1MgdG9tlYW",
      "include_colab_link": true
    },
    "kernelspec": {
      "name": "python3",
      "display_name": "Python 3"
    },
    "language_info": {
      "name": "python"
    }
  },
  "cells": [
    {
      "cell_type": "markdown",
      "metadata": {
        "id": "view-in-github",
        "colab_type": "text"
      },
      "source": [
        "<a href=\"https://colab.research.google.com/github/Kalyani1038/python/blob/main/2205a21038_ass_06.ipynb\" target=\"_parent\"><img src=\"https://colab.research.google.com/assets/colab-badge.svg\" alt=\"Open In Colab\"/></a>"
      ]
    },
    {
      "cell_type": "code",
      "source": [
        "i=0\n",
        "while(i<6):\n",
        "  j=0\n",
        "  while(j<6):\n",
        "    if(i<=j):\n",
        "      print(\"+\",end=\"\")\n",
        "    j+=1\n",
        "  i+=1\n",
        "  print()"
      ],
      "metadata": {
        "colab": {
          "base_uri": "https://localhost:8080/"
        },
        "id": "TR0EmpWOl7zK",
        "outputId": "e16bc0a4-aa0b-49d6-d124-00b7678fb771"
      },
      "execution_count": 13,
      "outputs": [
        {
          "output_type": "stream",
          "name": "stdout",
          "text": [
            "++++++\n",
            "+++++\n",
            "++++\n",
            "+++\n",
            "++\n",
            "+\n"
          ]
        }
      ]
    },
    {
      "cell_type": "code",
      "source": [
        "\n",
        "i=0\n",
        "\n",
        "while(i<6):\n",
        "  j=0\n",
        "  while(j<6):\n",
        "    if(j<=i):\n",
        "      print(\"*\",end=\"\")\n",
        "    j+=1\n",
        "  i+=1\n",
        "  print()"
      ],
      "metadata": {
        "colab": {
          "base_uri": "https://localhost:8080/"
        },
        "id": "-6zkRA2EmIm7",
        "outputId": "ba286a04-a93f-421c-94b0-50206f468032"
      },
      "execution_count": 14,
      "outputs": [
        {
          "output_type": "stream",
          "name": "stdout",
          "text": [
            "*\n",
            "**\n",
            "***\n",
            "****\n",
            "*****\n",
            "******\n"
          ]
        }
      ]
    },
    {
      "cell_type": "code",
      "source": [
        "\n",
        "rows = 5\n",
        "i = 0\n",
        "while i < rows:\n",
        "    j = 0\n",
        "    while j < (rows - i - 1):\n",
        "        print(\" \", end='')\n",
        "        j += 1\n",
        "    j = 0\n",
        "    while j <= i:\n",
        "        print(\"*\", end='')\n",
        "        j += 1\n",
        "    print('')\n",
        "    i += 1\n"
      ],
      "metadata": {
        "colab": {
          "base_uri": "https://localhost:8080/"
        },
        "id": "gCyabBSVmPmd",
        "outputId": "beae7ead-0a7a-435e-fb1b-9934eaecfff1"
      },
      "execution_count": 15,
      "outputs": [
        {
          "output_type": "stream",
          "name": "stdout",
          "text": [
            "    *\n",
            "   **\n",
            "  ***\n",
            " ****\n",
            "*****\n"
          ]
        }
      ]
    },
    {
      "cell_type": "code",
      "source": [
        "\n",
        "\n",
        "\n",
        "rows = 6\n",
        "i = 0\n",
        "while i < rows:\n",
        "    print(' ' * i, end='')\n",
        "    print('+' * (rows - i))\n",
        "    i += 1"
      ],
      "metadata": {
        "colab": {
          "base_uri": "https://localhost:8080/"
        },
        "id": "S9s6OW-amia9",
        "outputId": "0db5de4e-d551-4376-bd19-b10e3612f2c1"
      },
      "execution_count": 16,
      "outputs": [
        {
          "output_type": "stream",
          "name": "stdout",
          "text": [
            "++++++\n",
            " +++++\n",
            "  ++++\n",
            "   +++\n",
            "    ++\n",
            "     +\n"
          ]
        }
      ]
    }
  ]
}